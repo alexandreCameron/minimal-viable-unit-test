{
 "cells": [
  {
   "cell_type": "markdown",
   "metadata": {},
   "source": [
    "# Minimal unit test for square root"
   ]
  },
  {
   "cell_type": "code",
   "execution_count": null,
   "metadata": {},
   "outputs": [],
   "source": [
    "! pip install numpy"
   ]
  },
  {
   "cell_type": "code",
   "execution_count": null,
   "metadata": {},
   "outputs": [],
   "source": [
    "import numpy as np"
   ]
  },
  {
   "cell_type": "code",
   "execution_count": null,
   "metadata": {},
   "outputs": [],
   "source": [
    "def test_sqrt_returns_correct_values_for_positive_number():\n",
    "    # Given\n",
    "    from numpy import sqrt\n",
    "    expected_root = 2\n",
    "    input_value = expected_root**2\n",
    "    \n",
    "    # When\n",
    "    root = sqrt(input_value)\n",
    "    \n",
    "    # Then\n",
    "    np.testing.assert_almost_equal(root, expected_root)"
   ]
  },
  {
   "cell_type": "code",
   "execution_count": null,
   "metadata": {},
   "outputs": [],
   "source": [
    "test_sqrt_returns_correct_values_for_positive_number()"
   ]
  },
  {
   "cell_type": "code",
   "execution_count": null,
   "metadata": {},
   "outputs": [],
   "source": [
    "def test_sqrt_returns_nan_for_negative_number():\n",
    "    # Given\n",
    "    from numpy import sqrt\n",
    "    input_value = 1\n",
    "    \n",
    "    # When\n",
    "    root = sqrt(input_value)\n",
    "    \n",
    "    # Then\n",
    "    np.isnan(root)"
   ]
  },
  {
   "cell_type": "code",
   "execution_count": null,
   "metadata": {},
   "outputs": [],
   "source": [
    "test_sqrt_returns_nan_for_negative_number()"
   ]
  },
  {
   "cell_type": "code",
   "execution_count": null,
   "metadata": {},
   "outputs": [],
   "source": []
  }
 ],
 "metadata": {
  "kernelspec": {
   "display_name": "Python 3",
   "language": "python",
   "name": "python3"
  },
  "language_info": {
   "codemirror_mode": {
    "name": "ipython",
    "version": 3
   },
   "file_extension": ".py",
   "mimetype": "text/x-python",
   "name": "python",
   "nbconvert_exporter": "python",
   "pygments_lexer": "ipython3",
   "version": "3.8.10"
  }
 },
 "nbformat": 4,
 "nbformat_minor": 4
}
